{
 "cells": [
  {
   "cell_type": "markdown",
   "metadata": {},
   "source": [
    "\n",
    "\n",
    "# Project: The Movie Database Analysis\n",
    "## By Eleojo .E. Adegbe\n",
    "## Table of Contents\n",
    "<ul>\n",
    "<li><a href=\"#intro\">Introduction</a></li>\n",
    "<li><a href=\"#intro\">Limitation</a></li>\n",
    "<li><a href=\"#wrangling\">Data Wrangling</a></li>\n",
    "<li><a href=\"#eda\">Exploratory Data Analysis</a></li>\n",
    "<li><a href=\"#conclusions\">Conclusions</a></li>\n",
    "</ul>"
   ]
  },
  {
   "cell_type": "markdown",
   "metadata": {},
   "source": [
    "<a id='intro'></a>\n",
    "## Introduction\n",
    "\n",
    "The Movie Database is home to a lot of metrics concerning movies. These metrics include the movies budget, revenue, popularity ,title, cast, reviews, runtime etc.\n",
    "In this project i am working with a dataset that contains 10866 movies. I wish to analyze and point out the best month and day to release Action movies based on total movie revenue for each month and day and also based on the budget used to produce such movie.\n",
    "## Limitation\n",
    "The major limitation is that production companies try as much to withold budget for movies and as such it is difficult to get the budget for some movies and also some of the budgets are estimated sums."
   ]
  },
  {
   "cell_type": "code",
   "execution_count": 1,
   "metadata": {},
   "outputs": [],
   "source": [
    "import pandas as pd\n",
    "%matplotlib inline\n",
    "import numpy as np\n",
    "import matplotlib.pyplot as plt\n",
    "import seaborn as sb\n"
   ]
  },
  {
   "cell_type": "markdown",
   "metadata": {},
   "source": [
    "<a id='wrangling'></a>\n",
    "## Data Wrangling\n",
    "\n",
    "In this section of the report, i load in the data, check for cleanliness and tidiness issues in the data, and then trim and clean the dataset for analysis.Steps are clearly documented and justified.\n",
    "\n",
    "### General Properties(Inspection)"
   ]
  },
  {
   "cell_type": "code",
   "execution_count": 2,
   "metadata": {},
   "outputs": [
    {
     "data": {
      "text/html": [
       "<div>\n",
       "<style scoped>\n",
       "    .dataframe tbody tr th:only-of-type {\n",
       "        vertical-align: middle;\n",
       "    }\n",
       "\n",
       "    .dataframe tbody tr th {\n",
       "        vertical-align: top;\n",
       "    }\n",
       "\n",
       "    .dataframe thead th {\n",
       "        text-align: right;\n",
       "    }\n",
       "</style>\n",
       "<table border=\"1\" class=\"dataframe\">\n",
       "  <thead>\n",
       "    <tr style=\"text-align: right;\">\n",
       "      <th></th>\n",
       "      <th>id</th>\n",
       "      <th>imdb_id</th>\n",
       "      <th>popularity</th>\n",
       "      <th>budget</th>\n",
       "      <th>revenue</th>\n",
       "      <th>original_title</th>\n",
       "      <th>cast</th>\n",
       "      <th>homepage</th>\n",
       "      <th>director</th>\n",
       "      <th>tagline</th>\n",
       "      <th>...</th>\n",
       "      <th>overview</th>\n",
       "      <th>runtime</th>\n",
       "      <th>genres</th>\n",
       "      <th>production_companies</th>\n",
       "      <th>release_date</th>\n",
       "      <th>vote_count</th>\n",
       "      <th>vote_average</th>\n",
       "      <th>release_year</th>\n",
       "      <th>budget_adj</th>\n",
       "      <th>revenue_adj</th>\n",
       "    </tr>\n",
       "  </thead>\n",
       "  <tbody>\n",
       "    <tr>\n",
       "      <th>0</th>\n",
       "      <td>135397</td>\n",
       "      <td>tt0369610</td>\n",
       "      <td>32.985763</td>\n",
       "      <td>150000000</td>\n",
       "      <td>1513528810</td>\n",
       "      <td>Jurassic World</td>\n",
       "      <td>Chris Pratt|Bryce Dallas Howard|Irrfan Khan|Vi...</td>\n",
       "      <td>http://www.jurassicworld.com/</td>\n",
       "      <td>Colin Trevorrow</td>\n",
       "      <td>The park is open.</td>\n",
       "      <td>...</td>\n",
       "      <td>Twenty-two years after the events of Jurassic ...</td>\n",
       "      <td>124</td>\n",
       "      <td>Action|Adventure|Science Fiction|Thriller</td>\n",
       "      <td>Universal Studios|Amblin Entertainment|Legenda...</td>\n",
       "      <td>6/9/15</td>\n",
       "      <td>5562</td>\n",
       "      <td>6.5</td>\n",
       "      <td>2015</td>\n",
       "      <td>1.379999e+08</td>\n",
       "      <td>1.392446e+09</td>\n",
       "    </tr>\n",
       "    <tr>\n",
       "      <th>1</th>\n",
       "      <td>76341</td>\n",
       "      <td>tt1392190</td>\n",
       "      <td>28.419936</td>\n",
       "      <td>150000000</td>\n",
       "      <td>378436354</td>\n",
       "      <td>Mad Max: Fury Road</td>\n",
       "      <td>Tom Hardy|Charlize Theron|Hugh Keays-Byrne|Nic...</td>\n",
       "      <td>http://www.madmaxmovie.com/</td>\n",
       "      <td>George Miller</td>\n",
       "      <td>What a Lovely Day.</td>\n",
       "      <td>...</td>\n",
       "      <td>An apocalyptic story set in the furthest reach...</td>\n",
       "      <td>120</td>\n",
       "      <td>Action|Adventure|Science Fiction|Thriller</td>\n",
       "      <td>Village Roadshow Pictures|Kennedy Miller Produ...</td>\n",
       "      <td>5/13/15</td>\n",
       "      <td>6185</td>\n",
       "      <td>7.1</td>\n",
       "      <td>2015</td>\n",
       "      <td>1.379999e+08</td>\n",
       "      <td>3.481613e+08</td>\n",
       "    </tr>\n",
       "    <tr>\n",
       "      <th>2</th>\n",
       "      <td>262500</td>\n",
       "      <td>tt2908446</td>\n",
       "      <td>13.112507</td>\n",
       "      <td>110000000</td>\n",
       "      <td>295238201</td>\n",
       "      <td>Insurgent</td>\n",
       "      <td>Shailene Woodley|Theo James|Kate Winslet|Ansel...</td>\n",
       "      <td>http://www.thedivergentseries.movie/#insurgent</td>\n",
       "      <td>Robert Schwentke</td>\n",
       "      <td>One Choice Can Destroy You</td>\n",
       "      <td>...</td>\n",
       "      <td>Beatrice Prior must confront her inner demons ...</td>\n",
       "      <td>119</td>\n",
       "      <td>Adventure|Science Fiction|Thriller</td>\n",
       "      <td>Summit Entertainment|Mandeville Films|Red Wago...</td>\n",
       "      <td>3/18/15</td>\n",
       "      <td>2480</td>\n",
       "      <td>6.3</td>\n",
       "      <td>2015</td>\n",
       "      <td>1.012000e+08</td>\n",
       "      <td>2.716190e+08</td>\n",
       "    </tr>\n",
       "    <tr>\n",
       "      <th>3</th>\n",
       "      <td>140607</td>\n",
       "      <td>tt2488496</td>\n",
       "      <td>11.173104</td>\n",
       "      <td>200000000</td>\n",
       "      <td>2068178225</td>\n",
       "      <td>Star Wars: The Force Awakens</td>\n",
       "      <td>Harrison Ford|Mark Hamill|Carrie Fisher|Adam D...</td>\n",
       "      <td>http://www.starwars.com/films/star-wars-episod...</td>\n",
       "      <td>J.J. Abrams</td>\n",
       "      <td>Every generation has a story.</td>\n",
       "      <td>...</td>\n",
       "      <td>Thirty years after defeating the Galactic Empi...</td>\n",
       "      <td>136</td>\n",
       "      <td>Action|Adventure|Science Fiction|Fantasy</td>\n",
       "      <td>Lucasfilm|Truenorth Productions|Bad Robot</td>\n",
       "      <td>12/15/15</td>\n",
       "      <td>5292</td>\n",
       "      <td>7.5</td>\n",
       "      <td>2015</td>\n",
       "      <td>1.839999e+08</td>\n",
       "      <td>1.902723e+09</td>\n",
       "    </tr>\n",
       "    <tr>\n",
       "      <th>4</th>\n",
       "      <td>168259</td>\n",
       "      <td>tt2820852</td>\n",
       "      <td>9.335014</td>\n",
       "      <td>190000000</td>\n",
       "      <td>1506249360</td>\n",
       "      <td>Furious 7</td>\n",
       "      <td>Vin Diesel|Paul Walker|Jason Statham|Michelle ...</td>\n",
       "      <td>http://www.furious7.com/</td>\n",
       "      <td>James Wan</td>\n",
       "      <td>Vengeance Hits Home</td>\n",
       "      <td>...</td>\n",
       "      <td>Deckard Shaw seeks revenge against Dominic Tor...</td>\n",
       "      <td>137</td>\n",
       "      <td>Action|Crime|Thriller</td>\n",
       "      <td>Universal Pictures|Original Film|Media Rights ...</td>\n",
       "      <td>4/1/15</td>\n",
       "      <td>2947</td>\n",
       "      <td>7.3</td>\n",
       "      <td>2015</td>\n",
       "      <td>1.747999e+08</td>\n",
       "      <td>1.385749e+09</td>\n",
       "    </tr>\n",
       "  </tbody>\n",
       "</table>\n",
       "<p>5 rows × 21 columns</p>\n",
       "</div>"
      ],
      "text/plain": [
       "       id    imdb_id  popularity     budget     revenue  \\\n",
       "0  135397  tt0369610   32.985763  150000000  1513528810   \n",
       "1   76341  tt1392190   28.419936  150000000   378436354   \n",
       "2  262500  tt2908446   13.112507  110000000   295238201   \n",
       "3  140607  tt2488496   11.173104  200000000  2068178225   \n",
       "4  168259  tt2820852    9.335014  190000000  1506249360   \n",
       "\n",
       "                 original_title  \\\n",
       "0                Jurassic World   \n",
       "1            Mad Max: Fury Road   \n",
       "2                     Insurgent   \n",
       "3  Star Wars: The Force Awakens   \n",
       "4                     Furious 7   \n",
       "\n",
       "                                                cast  \\\n",
       "0  Chris Pratt|Bryce Dallas Howard|Irrfan Khan|Vi...   \n",
       "1  Tom Hardy|Charlize Theron|Hugh Keays-Byrne|Nic...   \n",
       "2  Shailene Woodley|Theo James|Kate Winslet|Ansel...   \n",
       "3  Harrison Ford|Mark Hamill|Carrie Fisher|Adam D...   \n",
       "4  Vin Diesel|Paul Walker|Jason Statham|Michelle ...   \n",
       "\n",
       "                                            homepage          director  \\\n",
       "0                      http://www.jurassicworld.com/   Colin Trevorrow   \n",
       "1                        http://www.madmaxmovie.com/     George Miller   \n",
       "2     http://www.thedivergentseries.movie/#insurgent  Robert Schwentke   \n",
       "3  http://www.starwars.com/films/star-wars-episod...       J.J. Abrams   \n",
       "4                           http://www.furious7.com/         James Wan   \n",
       "\n",
       "                         tagline  ...  \\\n",
       "0              The park is open.  ...   \n",
       "1             What a Lovely Day.  ...   \n",
       "2     One Choice Can Destroy You  ...   \n",
       "3  Every generation has a story.  ...   \n",
       "4            Vengeance Hits Home  ...   \n",
       "\n",
       "                                            overview runtime  \\\n",
       "0  Twenty-two years after the events of Jurassic ...     124   \n",
       "1  An apocalyptic story set in the furthest reach...     120   \n",
       "2  Beatrice Prior must confront her inner demons ...     119   \n",
       "3  Thirty years after defeating the Galactic Empi...     136   \n",
       "4  Deckard Shaw seeks revenge against Dominic Tor...     137   \n",
       "\n",
       "                                      genres  \\\n",
       "0  Action|Adventure|Science Fiction|Thriller   \n",
       "1  Action|Adventure|Science Fiction|Thriller   \n",
       "2         Adventure|Science Fiction|Thriller   \n",
       "3   Action|Adventure|Science Fiction|Fantasy   \n",
       "4                      Action|Crime|Thriller   \n",
       "\n",
       "                                production_companies release_date vote_count  \\\n",
       "0  Universal Studios|Amblin Entertainment|Legenda...       6/9/15       5562   \n",
       "1  Village Roadshow Pictures|Kennedy Miller Produ...      5/13/15       6185   \n",
       "2  Summit Entertainment|Mandeville Films|Red Wago...      3/18/15       2480   \n",
       "3          Lucasfilm|Truenorth Productions|Bad Robot     12/15/15       5292   \n",
       "4  Universal Pictures|Original Film|Media Rights ...       4/1/15       2947   \n",
       "\n",
       "   vote_average  release_year    budget_adj   revenue_adj  \n",
       "0           6.5          2015  1.379999e+08  1.392446e+09  \n",
       "1           7.1          2015  1.379999e+08  3.481613e+08  \n",
       "2           6.3          2015  1.012000e+08  2.716190e+08  \n",
       "3           7.5          2015  1.839999e+08  1.902723e+09  \n",
       "4           7.3          2015  1.747999e+08  1.385749e+09  \n",
       "\n",
       "[5 rows x 21 columns]"
      ]
     },
     "execution_count": 2,
     "metadata": {},
     "output_type": "execute_result"
    }
   ],
   "source": [
    "# Load your data and print out a few lines. Perform operations to inspect data\n",
    "df = pd.read_csv('tmdb-movies.csv')\n",
    "df.head()\n",
    "\n",
    "#   types and look for instances of missing or possibly errant data.\n"
   ]
  },
  {
   "cell_type": "markdown",
   "metadata": {},
   "source": [
    "**The cell above gives a quick look into our tmdb-movies dataset**"
   ]
  },
  {
   "cell_type": "code",
   "execution_count": 3,
   "metadata": {},
   "outputs": [
    {
     "data": {
      "text/plain": [
       "(10866, 21)"
      ]
     },
     "execution_count": 3,
     "metadata": {},
     "output_type": "execute_result"
    }
   ],
   "source": [
    "df.shape"
   ]
  },
  {
   "cell_type": "markdown",
   "metadata": {},
   "source": [
    "#### The cell above shows number of rows and columns of the dataset"
   ]
  },
  {
   "cell_type": "code",
   "execution_count": 4,
   "metadata": {},
   "outputs": [
    {
     "name": "stdout",
     "output_type": "stream",
     "text": [
      "<class 'pandas.core.frame.DataFrame'>\n",
      "RangeIndex: 10866 entries, 0 to 10865\n",
      "Data columns (total 21 columns):\n",
      " #   Column                Non-Null Count  Dtype  \n",
      "---  ------                --------------  -----  \n",
      " 0   id                    10866 non-null  int64  \n",
      " 1   imdb_id               10856 non-null  object \n",
      " 2   popularity            10866 non-null  float64\n",
      " 3   budget                10866 non-null  int64  \n",
      " 4   revenue               10866 non-null  int64  \n",
      " 5   original_title        10866 non-null  object \n",
      " 6   cast                  10790 non-null  object \n",
      " 7   homepage              2936 non-null   object \n",
      " 8   director              10822 non-null  object \n",
      " 9   tagline               8042 non-null   object \n",
      " 10  keywords              9373 non-null   object \n",
      " 11  overview              10862 non-null  object \n",
      " 12  runtime               10866 non-null  int64  \n",
      " 13  genres                10843 non-null  object \n",
      " 14  production_companies  9836 non-null   object \n",
      " 15  release_date          10866 non-null  object \n",
      " 16  vote_count            10866 non-null  int64  \n",
      " 17  vote_average          10866 non-null  float64\n",
      " 18  release_year          10866 non-null  int64  \n",
      " 19  budget_adj            10866 non-null  float64\n",
      " 20  revenue_adj           10866 non-null  float64\n",
      "dtypes: float64(4), int64(6), object(11)\n",
      "memory usage: 1.7+ MB\n"
     ]
    }
   ],
   "source": [
    "df.info()"
   ]
  },
  {
   "cell_type": "markdown",
   "metadata": {},
   "source": [
    " #### The above cell gives a look into the variables available in the dataset and their datatype"
   ]
  },
  {
   "cell_type": "code",
   "execution_count": 5,
   "metadata": {},
   "outputs": [
    {
     "data": {
      "text/html": [
       "<div>\n",
       "<style scoped>\n",
       "    .dataframe tbody tr th:only-of-type {\n",
       "        vertical-align: middle;\n",
       "    }\n",
       "\n",
       "    .dataframe tbody tr th {\n",
       "        vertical-align: top;\n",
       "    }\n",
       "\n",
       "    .dataframe thead th {\n",
       "        text-align: right;\n",
       "    }\n",
       "</style>\n",
       "<table border=\"1\" class=\"dataframe\">\n",
       "  <thead>\n",
       "    <tr style=\"text-align: right;\">\n",
       "      <th></th>\n",
       "      <th>id</th>\n",
       "      <th>popularity</th>\n",
       "      <th>budget</th>\n",
       "      <th>revenue</th>\n",
       "      <th>runtime</th>\n",
       "      <th>vote_count</th>\n",
       "      <th>vote_average</th>\n",
       "      <th>release_year</th>\n",
       "      <th>budget_adj</th>\n",
       "      <th>revenue_adj</th>\n",
       "    </tr>\n",
       "  </thead>\n",
       "  <tbody>\n",
       "    <tr>\n",
       "      <th>count</th>\n",
       "      <td>10866.000000</td>\n",
       "      <td>10866.000000</td>\n",
       "      <td>1.086600e+04</td>\n",
       "      <td>1.086600e+04</td>\n",
       "      <td>10866.000000</td>\n",
       "      <td>10866.000000</td>\n",
       "      <td>10866.000000</td>\n",
       "      <td>10866.000000</td>\n",
       "      <td>1.086600e+04</td>\n",
       "      <td>1.086600e+04</td>\n",
       "    </tr>\n",
       "    <tr>\n",
       "      <th>mean</th>\n",
       "      <td>66064.177434</td>\n",
       "      <td>0.646441</td>\n",
       "      <td>1.462570e+07</td>\n",
       "      <td>3.982332e+07</td>\n",
       "      <td>102.070863</td>\n",
       "      <td>217.389748</td>\n",
       "      <td>5.974922</td>\n",
       "      <td>2001.322658</td>\n",
       "      <td>1.755104e+07</td>\n",
       "      <td>5.136436e+07</td>\n",
       "    </tr>\n",
       "    <tr>\n",
       "      <th>std</th>\n",
       "      <td>92130.136561</td>\n",
       "      <td>1.000185</td>\n",
       "      <td>3.091321e+07</td>\n",
       "      <td>1.170035e+08</td>\n",
       "      <td>31.381405</td>\n",
       "      <td>575.619058</td>\n",
       "      <td>0.935142</td>\n",
       "      <td>12.812941</td>\n",
       "      <td>3.430616e+07</td>\n",
       "      <td>1.446325e+08</td>\n",
       "    </tr>\n",
       "    <tr>\n",
       "      <th>min</th>\n",
       "      <td>5.000000</td>\n",
       "      <td>0.000065</td>\n",
       "      <td>0.000000e+00</td>\n",
       "      <td>0.000000e+00</td>\n",
       "      <td>0.000000</td>\n",
       "      <td>10.000000</td>\n",
       "      <td>1.500000</td>\n",
       "      <td>1960.000000</td>\n",
       "      <td>0.000000e+00</td>\n",
       "      <td>0.000000e+00</td>\n",
       "    </tr>\n",
       "    <tr>\n",
       "      <th>25%</th>\n",
       "      <td>10596.250000</td>\n",
       "      <td>0.207583</td>\n",
       "      <td>0.000000e+00</td>\n",
       "      <td>0.000000e+00</td>\n",
       "      <td>90.000000</td>\n",
       "      <td>17.000000</td>\n",
       "      <td>5.400000</td>\n",
       "      <td>1995.000000</td>\n",
       "      <td>0.000000e+00</td>\n",
       "      <td>0.000000e+00</td>\n",
       "    </tr>\n",
       "    <tr>\n",
       "      <th>50%</th>\n",
       "      <td>20669.000000</td>\n",
       "      <td>0.383856</td>\n",
       "      <td>0.000000e+00</td>\n",
       "      <td>0.000000e+00</td>\n",
       "      <td>99.000000</td>\n",
       "      <td>38.000000</td>\n",
       "      <td>6.000000</td>\n",
       "      <td>2006.000000</td>\n",
       "      <td>0.000000e+00</td>\n",
       "      <td>0.000000e+00</td>\n",
       "    </tr>\n",
       "    <tr>\n",
       "      <th>75%</th>\n",
       "      <td>75610.000000</td>\n",
       "      <td>0.713817</td>\n",
       "      <td>1.500000e+07</td>\n",
       "      <td>2.400000e+07</td>\n",
       "      <td>111.000000</td>\n",
       "      <td>145.750000</td>\n",
       "      <td>6.600000</td>\n",
       "      <td>2011.000000</td>\n",
       "      <td>2.085325e+07</td>\n",
       "      <td>3.369710e+07</td>\n",
       "    </tr>\n",
       "    <tr>\n",
       "      <th>max</th>\n",
       "      <td>417859.000000</td>\n",
       "      <td>32.985763</td>\n",
       "      <td>4.250000e+08</td>\n",
       "      <td>2.781506e+09</td>\n",
       "      <td>900.000000</td>\n",
       "      <td>9767.000000</td>\n",
       "      <td>9.200000</td>\n",
       "      <td>2015.000000</td>\n",
       "      <td>4.250000e+08</td>\n",
       "      <td>2.827124e+09</td>\n",
       "    </tr>\n",
       "  </tbody>\n",
       "</table>\n",
       "</div>"
      ],
      "text/plain": [
       "                  id    popularity        budget       revenue       runtime  \\\n",
       "count   10866.000000  10866.000000  1.086600e+04  1.086600e+04  10866.000000   \n",
       "mean    66064.177434      0.646441  1.462570e+07  3.982332e+07    102.070863   \n",
       "std     92130.136561      1.000185  3.091321e+07  1.170035e+08     31.381405   \n",
       "min         5.000000      0.000065  0.000000e+00  0.000000e+00      0.000000   \n",
       "25%     10596.250000      0.207583  0.000000e+00  0.000000e+00     90.000000   \n",
       "50%     20669.000000      0.383856  0.000000e+00  0.000000e+00     99.000000   \n",
       "75%     75610.000000      0.713817  1.500000e+07  2.400000e+07    111.000000   \n",
       "max    417859.000000     32.985763  4.250000e+08  2.781506e+09    900.000000   \n",
       "\n",
       "         vote_count  vote_average  release_year    budget_adj   revenue_adj  \n",
       "count  10866.000000  10866.000000  10866.000000  1.086600e+04  1.086600e+04  \n",
       "mean     217.389748      5.974922   2001.322658  1.755104e+07  5.136436e+07  \n",
       "std      575.619058      0.935142     12.812941  3.430616e+07  1.446325e+08  \n",
       "min       10.000000      1.500000   1960.000000  0.000000e+00  0.000000e+00  \n",
       "25%       17.000000      5.400000   1995.000000  0.000000e+00  0.000000e+00  \n",
       "50%       38.000000      6.000000   2006.000000  0.000000e+00  0.000000e+00  \n",
       "75%      145.750000      6.600000   2011.000000  2.085325e+07  3.369710e+07  \n",
       "max     9767.000000      9.200000   2015.000000  4.250000e+08  2.827124e+09  "
      ]
     },
     "execution_count": 5,
     "metadata": {},
     "output_type": "execute_result"
    }
   ],
   "source": [
    "df.describe()"
   ]
  },
  {
   "cell_type": "markdown",
   "metadata": {},
   "source": [
    "#### The above cell gives insight into the distribution of the data"
   ]
  },
  {
   "cell_type": "code",
   "execution_count": 6,
   "metadata": {},
   "outputs": [
    {
     "data": {
      "text/plain": [
       "id                         0\n",
       "imdb_id                   10\n",
       "popularity                 0\n",
       "budget                     0\n",
       "revenue                    0\n",
       "original_title             0\n",
       "cast                      76\n",
       "homepage                7930\n",
       "director                  44\n",
       "tagline                 2824\n",
       "keywords                1493\n",
       "overview                   4\n",
       "runtime                    0\n",
       "genres                    23\n",
       "production_companies    1030\n",
       "release_date               0\n",
       "vote_count                 0\n",
       "vote_average               0\n",
       "release_year               0\n",
       "budget_adj                 0\n",
       "revenue_adj                0\n",
       "dtype: int64"
      ]
     },
     "execution_count": 6,
     "metadata": {},
     "output_type": "execute_result"
    }
   ],
   "source": [
    "df.isnull().sum()"
   ]
  },
  {
   "cell_type": "markdown",
   "metadata": {},
   "source": [
    "**from the cell above we see that our variables of interest _ popularity, revenue, budget and release_date have no missing values so it is safe to just fill up nan values in the dataset  with a 0 so as not to have a NaN type there**"
   ]
  },
  {
   "cell_type": "code",
   "execution_count": 7,
   "metadata": {},
   "outputs": [
    {
     "data": {
      "text/plain": [
       "True"
      ]
     },
     "execution_count": 7,
     "metadata": {},
     "output_type": "execute_result"
    }
   ],
   "source": [
    "# checking for duplictes\n",
    "boolean = df.duplicated().any()\n",
    "#df.duplicated()\n",
    "boolean"
   ]
  },
  {
   "cell_type": "markdown",
   "metadata": {},
   "source": [
    "### <font color='purple'>Assesment</font>\n",
    "#### <font color='purple'>Quality issues</font>\n",
    "- Null values exist in the dataset\n",
    "- Release year should be changed to datetime type\n",
    "- Drop duplicates\n",
    "- Movies with budget less than $\\$60000$ and revenue less than $\\$368000$\n",
    "\n",
    "#### <font color='purple'>Tidiness issues</font>\n",
    "- genre column has more than one variable\n"
   ]
  },
  {
   "cell_type": "markdown",
   "metadata": {},
   "source": [
    "### Data Cleaning \n",
    "**<font color='purple'>Quality issues</font>**\n",
    "#### Define\n",
    " Fiil up NaN values with 0 and convert the release_date column to datetime check for duplicates and check for movie budget online,\n",
    "#### Code"
   ]
  },
  {
   "cell_type": "code",
   "execution_count": 8,
   "metadata": {},
   "outputs": [
    {
     "data": {
      "text/plain": [
       "0"
      ]
     },
     "execution_count": 8,
     "metadata": {},
     "output_type": "execute_result"
    }
   ],
   "source": [
    "df2=df.copy()\n",
    "# filling Nan with 0\n",
    "df2 = df.fillna(value=0)\n",
    "# check if code worked\n",
    "df2.isnull().sum().sum()"
   ]
  },
  {
   "cell_type": "code",
   "execution_count": 9,
   "metadata": {},
   "outputs": [
    {
     "data": {
      "text/plain": [
       "dtype('<M8[ns]')"
      ]
     },
     "execution_count": 9,
     "metadata": {},
     "output_type": "execute_result"
    }
   ],
   "source": [
    "# converting release_date to datetime type\n",
    "df2['release_date']= pd.to_datetime(df2['release_date'])\n",
    "# check conversion\n",
    "df2.release_date.dtype"
   ]
  },
  {
   "cell_type": "code",
   "execution_count": 10,
   "metadata": {},
   "outputs": [
    {
     "data": {
      "text/plain": [
       "False"
      ]
     },
     "execution_count": 10,
     "metadata": {},
     "output_type": "execute_result"
    }
   ],
   "source": [
    "# remove duplicates\n",
    "df2.drop_duplicates(keep = False, inplace = True)\n",
    "# check \n",
    "df2.duplicated().any()"
   ]
  },
  {
   "cell_type": "markdown",
   "metadata": {},
   "source": [
    "The code cell above removes duplicates from the dataframe"
   ]
  },
  {
   "cell_type": "code",
   "execution_count": 11,
   "metadata": {},
   "outputs": [
    {
     "data": {
      "text/plain": [
       "['Mr._Holmes',\n",
       " 'Solace',\n",
       " 'Beyond_the_Reach',\n",
       " 'Mythica:_The_Darkspore',\n",
       " 'Me_and_Earl_and_the_Dying_Girl',\n",
       " 'Equals',\n",
       " 'Mythica:_The_Necromancer',\n",
       " 'Alvin_and_the_Chipmunks:_The_Road_Chip',\n",
       " 'Frozen_Fever',\n",
       " 'High-Rise',\n",
       " 'Spooks:_The_Greater_Good',\n",
       " 'The_Scorpion_King:_The_Lost_Throne',\n",
       " 'Absolutely_Anything',\n",
       " 'Everly',\n",
       " 'Slow_West',\n",
       " 'Mistress_America',\n",
       " 'True_Story',\n",
       " 'Shaun_the_Sheep_Movie',\n",
       " 'A_Perfect_Day',\n",
       " 'Z_for_Zachariah',\n",
       " \"Dragonheart_3:_The_Sorcerer's_Curse\",\n",
       " 'Brothers_of_the_Wind',\n",
       " 'Regression',\n",
       " 'Pawn_Sacrifice',\n",
       " 'The_Man_Who_Knew_Infinity',\n",
       " 'Pay_the_Ghost',\n",
       " 'The_Voices',\n",
       " 'Last_Knights',\n",
       " 'Miss_You_Already',\n",
       " 'A_Bigger_Splash',\n",
       " 'Kidnapping_Mr._Heineken',\n",
       " 'Kill_Me_Three_Times',\n",
       " '45_Years',\n",
       " 'Barely_Lethal',\n",
       " 'Macbeth',\n",
       " 'Extraction',\n",
       " \"Jenny's_Wedding\",\n",
       " 'Descendants',\n",
       " 'Tumbledown',\n",
       " 'Far_from_the_Madding_Crowd',\n",
       " 'The_End_of_the_Tour',\n",
       " 'LEGO_DC_Comics_Super_Heroes:_Justice_League_vs._Bizarro_League',\n",
       " 'Remember',\n",
       " 'Halo:_The_Fall_of_Reach',\n",
       " 'Into_the_Forest',\n",
       " 'The_Invitation',\n",
       " 'The_Benefactor',\n",
       " 'Open_Season:_Scared_Silly',\n",
       " 'Cop_Car',\n",
       " 'Mojave',\n",
       " 'Sleeping_with_Other_People',\n",
       " 'Amy',\n",
       " 'Madame_Bovary',\n",
       " 'The_Hallow',\n",
       " 'Barbie_in_Princess_Power',\n",
       " 'Howl',\n",
       " 'Man_Up',\n",
       " 'Return_to_Sender',\n",
       " 'Knight_of_Cups',\n",
       " 'Mississippi_Grind',\n",
       " '400_Days',\n",
       " 'Lava',\n",
       " 'Air',\n",
       " 'Riot',\n",
       " 'Septembers_of_Shiraz',\n",
       " 'Every_Thing_Will_Be_Fine',\n",
       " 'Extinction',\n",
       " 'The_Childhood_of_a_Leader',\n",
       " 'Clown',\n",
       " 'Batman_vs._Robin',\n",
       " 'Racing_Extinction',\n",
       " 'Cobain:_Montage_of_Heck',\n",
       " 'Hyena_Road',\n",
       " 'McFarland,_USA',\n",
       " 'Backtrack',\n",
       " 'X+Y',\n",
       " 'The_Unspoken',\n",
       " 'Hot_Girls_Wanted',\n",
       " 'Dirty_Weekend',\n",
       " 'I_Spit_on_Your_Grave_III:_Vengeance_is_Mine',\n",
       " 'Experimenter',\n",
       " 'Woodlawn',\n",
       " 'The_Hollow',\n",
       " 'Visions',\n",
       " 'Beyond_the_Mask',\n",
       " 'I_Am_Here',\n",
       " 'Wild_Horses',\n",
       " 'Pressure',\n",
       " 'Hidden',\n",
       " 'Hell_&_Back',\n",
       " 'The_Man_with_the_Iron_Fists_2',\n",
       " 'LEGO_DC_Comics_Super_Heroes:_Justice_League:_Attack_of_the_Legion_of_Doom!',\n",
       " 'Crown_for_Christmas',\n",
       " 'Spare_Parts',\n",
       " 'The_World_Made_Straight',\n",
       " 'Last_Shift',\n",
       " 'Frankenstein',\n",
       " 'Cartel_Land',\n",
       " 'Moonwalkers',\n",
       " 'Chi-Raq',\n",
       " 'Strange_Magic',\n",
       " 'Dead_Rising',\n",
       " 'Deathgasm',\n",
       " 'Justice_League:_Gods_and_Monsters',\n",
       " 'Good_Kill',\n",
       " 'Southbound',\n",
       " 'Star_Trek:_Renegades',\n",
       " 'The_Boy',\n",
       " \"Riley's_First_Date?\",\n",
       " 'The_Program',\n",
       " 'Lila_&_Eve',\n",
       " 'The_Final_Girls',\n",
       " 'He_Never_Died',\n",
       " 'A_Very_Murray_Christmas',\n",
       " 'Kill_Your_Friends',\n",
       " 'Battle_For_SkyArk',\n",
       " 'The_Adderall_Diaries',\n",
       " 'Where_to_Invade_Next',\n",
       " 'A_Christmas_Horror_Story',\n",
       " 'Sunset_Song',\n",
       " 'Synchronicity',\n",
       " '12_Gifts_of_Christmas',\n",
       " 'The_Pack',\n",
       " 'The_Girl_in_the_Photographs',\n",
       " 'The_Legend_of_Barney_Thomson',\n",
       " '88',\n",
       " 'The_Girl_in_the_Book',\n",
       " 'Avengers_Grimm',\n",
       " 'The_Lion_Guard:_Return_of_the_Roar',\n",
       " 'A_Royal_Night_Out',\n",
       " 'Parallels',\n",
       " 'Born_to_Be_Blue',\n",
       " 'Tales_of_Halloween',\n",
       " 'Operator',\n",
       " 'The_Human_Centipede_3_(Final_Sequence)',\n",
       " 'Spring',\n",
       " 'The_Intruders',\n",
       " 'We_Are_Still_Here',\n",
       " 'Monster_High:_Haunted',\n",
       " '3-Headed_Shark_Attack',\n",
       " 'Navy_Seals_vs._Zombies',\n",
       " 'Wrecker',\n",
       " 'The_Escort',\n",
       " 'Martyrs',\n",
       " 'Uncanny',\n",
       " 'Bad_Hair_Day',\n",
       " 'San_Andreas_Quake',\n",
       " 'Advantageous',\n",
       " 'Partisan',\n",
       " 'Ashby',\n",
       " 'Beautiful_&_Twisted',\n",
       " 'Ronaldo',\n",
       " 'Going_Clear:_Scientology_and_the_Prison_of_Belief',\n",
       " 'Zipper',\n",
       " 'War_Pigs',\n",
       " 'Turbo_Kid',\n",
       " \"Barbie_in_Rock_'N_Royals\",\n",
       " 'Circle',\n",
       " 'Monkey_Kingdom',\n",
       " 'Joe_Dirt_2:_Beautiful_Loser',\n",
       " 'Minions:_The_Competition',\n",
       " \"I'll_See_You_in_My_Dreams\",\n",
       " 'Jesse_Stone:_Lost_in_Paradise',\n",
       " 'Steve_Jobs:_The_Man_in_the_Machine',\n",
       " \"Babysitter's_Black_Book\",\n",
       " 'The_Ones_Below',\n",
       " 'Tremors_5:_Bloodlines',\n",
       " 'Terminus',\n",
       " 'Andron',\n",
       " 'How_to_Plan_an_Orgy_in_a_Small_Town',\n",
       " 'Freaks_of_Nature',\n",
       " 'Reversal',\n",
       " 'Batman_Unlimited:_Monster_Mayhem',\n",
       " 'Holding_the_Man',\n",
       " 'Harbinger_Down',\n",
       " 'Batman_Unlimited:_Animal_Instincts',\n",
       " 'Entertainment',\n",
       " 'Meadowland',\n",
       " 'The_Stanford_Prison_Experiment',\n",
       " 'The_Girl_King',\n",
       " 'Bessie',\n",
       " 'The_Atticus_Institute',\n",
       " 'The_Hoarder',\n",
       " 'I_Smile_Back',\n",
       " 'Oddball',\n",
       " 'Meru',\n",
       " \"Sanjay's_Super_Team\",\n",
       " 'Learning_to_Drive',\n",
       " 'Christmas_Eve',\n",
       " 'The_Sisterhood_of_Night',\n",
       " 'Sharknado_3:_Oh_Hell_No!',\n",
       " '12_Rounds_3:_Lockdown',\n",
       " 'Hitting_the_Apex',\n",
       " 'Club_Life',\n",
       " 'Cleveland_Abduction',\n",
       " 'Lavalantula',\n",
       " 'Unexpected',\n",
       " \"Lady_Chatterley's_Lover\",\n",
       " 'The_Wicked_Within',\n",
       " 'Bridgend',\n",
       " 'Backcountry',\n",
       " 'An_Inspector_Calls',\n",
       " 'The_Survivalist',\n",
       " \"Don't_Grow_Up\",\n",
       " 'No_Stranger_Than_Love',\n",
       " 'The_Hive',\n",
       " 'Back_in_Time',\n",
       " 'Nina_Forever',\n",
       " 'Some_Kind_Of_Hate',\n",
       " 'Condemned',\n",
       " 'Night_Owls',\n",
       " 'The_Sand',\n",
       " 'Digging_for_Fire',\n",
       " 'Ten_Thousand_Saints',\n",
       " 'From_the_Dark',\n",
       " 'Hangman',\n",
       " 'Larry_Gaye:_Renegade_Male_Flight_Attendant',\n",
       " 'Anarchy_Parlor',\n",
       " 'Summer_Camp',\n",
       " 'Backmask',\n",
       " 'Already_Tomorrow_in_Hong_Kong',\n",
       " 'Those_People',\n",
       " 'Show_Me_a_Hero',\n",
       " 'Curve',\n",
       " 'Cyberbully',\n",
       " 'Final_Girl',\n",
       " 'He_Named_Me_Malala',\n",
       " 'The_Driftless_Area',\n",
       " 'Do_You_Believe?',\n",
       " '7_Days_in_Hell',\n",
       " 'Belli_di_papÃ\\xa0',\n",
       " 'Teen_Beach_2',\n",
       " 'Staten_Island_Summer',\n",
       " 'Safelight',\n",
       " 'Bad_Roomies',\n",
       " 'Close_Range',\n",
       " 'The_Reconstruction_of_William_Zero',\n",
       " 'Queen_of_Earth',\n",
       " 'After_the_Ball',\n",
       " 'A_Christmas_Detour',\n",
       " 'What_Happened,_Miss_Simone?',\n",
       " 'Alex_of_Venice',\n",
       " 'The_Eichmann_Show',\n",
       " 'People,_Places,_Things',\n",
       " 'The_Death_of_\"Superman_Lives\":_What_Happened?',\n",
       " \"Winter_on_Fire:_Ukraine's_Fight_for_Freedom\",\n",
       " \"Ava's_Possessions\",\n",
       " 'Being_Charlie',\n",
       " 'Containment',\n",
       " 'The_Exorcism_of_Molly_Hartley',\n",
       " 'The_Diabolical',\n",
       " 'Last_Cab_to_Darwin',\n",
       " 'Intruders',\n",
       " 'Infini',\n",
       " 'A_Christmas_Melody',\n",
       " 'Muck',\n",
       " 'Robert_the_Doll',\n",
       " 'Bravetown',\n",
       " 'Bite',\n",
       " 'Taylor_Swift:_The_1989_World_Tour_-_Live',\n",
       " 'Cosmic_Scrat-tastrophe',\n",
       " 'Ghoul',\n",
       " 'Waffle_Street',\n",
       " 'Deep_Web',\n",
       " 'Richard_Pryor:_Omit_the_Logic',\n",
       " 'Don_Verdean',\n",
       " 'The_Editor',\n",
       " 'Nasty_Baby',\n",
       " 'Bitter_Lake',\n",
       " 'June',\n",
       " 'The_Overnight',\n",
       " 'Smosh:_The_Movie',\n",
       " 'Keepers_of_the_Covenant:_Making_Exodus:_Gods_and_Kings',\n",
       " 'è§£æ•‘å´å…ˆç”Ÿ',\n",
       " 'The_Quiet_Hour',\n",
       " 'Lost_in_the_Sun',\n",
       " 'Results',\n",
       " 'Addicted_to_Fresno',\n",
       " 'Listening',\n",
       " 'Jack_of_the_Red_Hearts',\n",
       " 'Absolution',\n",
       " 'American_Hero',\n",
       " 'The_Condemned_2',\n",
       " 'Bound',\n",
       " 'SuperBob',\n",
       " 'A_Hitman_in_London',\n",
       " 'If_There_Be_Thorns',\n",
       " 'Pod',\n",
       " 'Hungry_Hearts',\n",
       " 'The_Funhouse_Massacre',\n",
       " 'Extraordinary_Tales',\n",
       " 'A_Deadly_Adoption',\n",
       " 'Ellis',\n",
       " 'Coconut_Hero',\n",
       " 'Janis:_Little_Girl_Blue',\n",
       " 'Io_che_amo_solo_te',\n",
       " 'Unknown_Caller',\n",
       " 'The_Inhabitants',\n",
       " 'Amy_Schumer:_Live_at_the_Apollo',\n",
       " 'Glassland',\n",
       " 'Whitney',\n",
       " 'Heaven_Knows_What',\n",
       " 'Keith_Richards:_Under_the_Influence',\n",
       " 'Hellions',\n",
       " '13_Cameras',\n",
       " 'Bastard',\n",
       " 'Strange_Blood',\n",
       " 'Jurassic_City',\n",
       " '6_Years',\n",
       " 'I_Am_Chris_Farley',\n",
       " 'Chloe_and_Theo',\n",
       " 'All_Things_Must_Pass',\n",
       " 'The_Nightmare',\n",
       " 'Tangerine',\n",
       " 'Nightlight',\n",
       " 'Stockholm,_Pennsylvania',\n",
       " 'Power/Rangers',\n",
       " 'Appropriate_Behavior',\n",
       " 'See_You_In_Valhalla',\n",
       " 'The_True_Cost',\n",
       " 'Kumiko,_the_Treasure_Hunter',\n",
       " 'Invisible_Sister',\n",
       " 'The_Forbidden_Room',\n",
       " 'Finders_Keepers',\n",
       " 'Merry_Kissmas',\n",
       " 'Most_Likely_to_Die',\n",
       " 'A_Girl_Like_Her',\n",
       " 'Private_Number',\n",
       " 'Iliza_Shlesinger:_Freezing_Hot',\n",
       " 'The_Barber',\n",
       " 'James_White',\n",
       " 'Hitchcock/Truffaut',\n",
       " 'A_Faster_Horse',\n",
       " 'The_Mask_You_Live_In',\n",
       " 'Soaked_in_Bleach',\n",
       " 'And_Then_There_Were_None',\n",
       " 'Bloodsucking_Bastards',\n",
       " 'The_Culling',\n",
       " 'Comedy_Central_Roast_of_Justin_Bieber',\n",
       " 'Boy_Meets_Girl',\n",
       " 'Listen_to_Me_Marlon',\n",
       " 'The_Ouija_Experiment_2:_Theatre_of_Death',\n",
       " 'Walt_Before_Mickey',\n",
       " 'Sense8:_Creating_the_World',\n",
       " 'Big_Sky',\n",
       " 'The_Fear_of_13',\n",
       " 'Dior_and_I',\n",
       " 'Ominous',\n",
       " 'Doctor_Who:_The_Husbands_of_River_Song',\n",
       " 'Call_Me_Lucky',\n",
       " 'Tiger_House',\n",
       " 'With_This_Ring',\n",
       " 'Brothers',\n",
       " 'Anguish',\n",
       " \"Childhood's_End\",\n",
       " 'Digging_Up_the_Marrow',\n",
       " \"Naomi_and_Ely's_No_Kiss_List\",\n",
       " 'The_Cokeville_Miracle',\n",
       " 'They_Found_Hell',\n",
       " 'Junun',\n",
       " 'The_Chosen',\n",
       " 'The_Flintstones_&_WWE:_Stone_Age_Smackdown',\n",
       " 'Chris_Tucker:_Live',\n",
       " 'VANish',\n",
       " 'Harry_Price:_Ghost_Hunter',\n",
       " 'Wildlike',\n",
       " 'The_Audition',\n",
       " 'Louis_C.K.:_Live_at_The_Comedy_Store',\n",
       " 'The_Wolfpack',\n",
       " 'The_Challenger',\n",
       " 'Aziz_Ansari:_Live_at_Madison_Square_Garden',\n",
       " 'Bleeding_Heart',\n",
       " 'Requiem_for_the_American_Dream',\n",
       " '3_Nights_in_the_Desert',\n",
       " 'The_House_on_Pine_Street',\n",
       " 'Slow_Learners',\n",
       " 'Welcome_to_Leith',\n",
       " 'The_Phoenix_Incident',\n",
       " 'Contracted:_Phase_II',\n",
       " 'Penis_Boy',\n",
       " 'The_Hunting_Ground',\n",
       " 'One_&_Two',\n",
       " 'Tig',\n",
       " 'Christmas_Incorporated',\n",
       " 'Submerged',\n",
       " 'Hurricane_of_Fun:_The_Making_of_Wet_Hot',\n",
       " 'Gascoigne',\n",
       " \"One_Soldier's_Story:_The_Journey_of_American_Sniper\",\n",
       " 'Deep_Dark',\n",
       " 'Vendetta',\n",
       " 'Breaking_Through',\n",
       " 'The_Stranger',\n",
       " 'Star_Wars:_TIE_Fighter',\n",
       " 'Dough',\n",
       " 'The_Bad_Education_Movie',\n",
       " 'Student_Bodies',\n",
       " 'The_Subjects',\n",
       " 'Walking_with_the_Dead',\n",
       " 'Floride',\n",
       " 'The_Outskirts',\n",
       " 'Twinsters',\n",
       " 'The_Jinx:_The_Life_and_Deaths_of_Robert_Durst',\n",
       " 'World_of_Tomorrow',\n",
       " 'Dawg_Fight',\n",
       " 'King_Jack',\n",
       " 'The_Suicide_Theory',\n",
       " 'Stalked_By_My_Neighbor',\n",
       " 'The_Outfield',\n",
       " 'Buzzard',\n",
       " 'The_Gamechangers',\n",
       " 'Residue',\n",
       " \"All_Hallows'_Eve_2\",\n",
       " 'Always_Watching:_A_Marble_Hornets_Story',\n",
       " \"A_Ballerina's_Tale\",\n",
       " 'Man_vs._Snake',\n",
       " 'Once_I_Was_a_Beehive',\n",
       " 'John_Mulaney:_The_Comeback_Kid',\n",
       " 'Meet_the_Patels',\n",
       " 'I_Hate_Christian_Laettner',\n",
       " \"The_Emperor's_New_Clothes\",\n",
       " 'Love,_Rosie',\n",
       " 'I_Origins',\n",
       " 'The_Captive',\n",
       " 'Mythica:_A_Quest_for_Heroes',\n",
       " \"A_Merry_Friggin'_Christmas\",\n",
       " 'Tinker_Bell_and_the_Legend_of_the_NeverBeast',\n",
       " 'Before_I_Go_to_Sleep',\n",
       " 'Tinker_Bell_and_the_Pirate_Fairy',\n",
       " 'Stonehearst_Asylum',\n",
       " 'Two_Night_Stand',\n",
       " 'Good_People',\n",
       " 'Black_Sea',\n",
       " 'Song_of_the_Sea',\n",
       " 'Marvel_One-Shot:_All_Hail_the_King',\n",
       " 'White_Bird_in_a_Blizzard',\n",
       " \"'71\",\n",
       " 'A_Million_Ways_to_Die_in_the_West',\n",
       " 'The_Forger',\n",
       " 'Frank',\n",
       " 'Playing_It_Cool',\n",
       " 'The_Two_Faces_of_January',\n",
       " 'Enemy',\n",
       " 'Echoes',\n",
       " 'Maya_the_Bee_Movie',\n",
       " 'Palo_Alto',\n",
       " 'Boychoir',\n",
       " 'Serena',\n",
       " 'Testament_of_Youth',\n",
       " 'The_Skeleton_Twins',\n",
       " 'Salting_the_Battlefield',\n",
       " 'The_Calling',\n",
       " 'Pride',\n",
       " 'Laggies',\n",
       " 'Frontera',\n",
       " 'The_Cobbler',\n",
       " 'Blue_Ruin',\n",
       " 'How_to_Make_Love_Like_an_Englishman',\n",
       " 'Magic_in_the_Moonlight',\n",
       " 'Kite',\n",
       " 'Son_of_a_Gun',\n",
       " 'Cold_in_July',\n",
       " 'The_Double',\n",
       " 'The_Nut_Job',\n",
       " 'Open_Windows',\n",
       " 'The_Bag_Man',\n",
       " 'Cymbeline',\n",
       " 'Adult_Beginners',\n",
       " 'Zodiac',\n",
       " 'Before_We_Go',\n",
       " 'Hector_and_the_Search_for_Happiness',\n",
       " 'Fed_Up',\n",
       " 'Batman:_Assault_on_Arkham',\n",
       " 'Housebound',\n",
       " 'A_Good_Marriage',\n",
       " 'Turks_&_Caicos',\n",
       " 'Toy_Story_That_Time_Forgot',\n",
       " 'Feast',\n",
       " 'Jackie_&_Ryan',\n",
       " 'The_Riot_Club',\n",
       " 'The_Scribbler',\n",
       " 'The_Little_Death',\n",
       " 'Cuban_Fury',\n",
       " 'Top_Five',\n",
       " 'Get_on_Up',\n",
       " 'Calvary',\n",
       " 'Time_Lapse',\n",
       " 'Sheâ€™s_Funny_That_Way',\n",
       " 'What_We_Do_in_the_Shadows',\n",
       " 'Starred_Up',\n",
       " 'Space_Station_76',\n",
       " '20,000_Days_on_Earth',\n",
       " 'The_Longest_Week',\n",
       " 'A_Certain_Justice',\n",
       " 'The_Angriest_Man_in_Brooklyn',\n",
       " 'Hellion',\n",
       " \"God's_Pocket\",\n",
       " 'Jessabelle',\n",
       " \"You're_Not_You\",\n",
       " 'The_Drownsman',\n",
       " 'Gun_Woman',\n",
       " 'The_Taking_of_Deborah_Logan',\n",
       " 'Men,_Women_&_Children',\n",
       " 'Shelter',\n",
       " 'Hello_Ladies:_The_Movie',\n",
       " 'What_We_Did_on_Our_Holiday',\n",
       " 'The_Anomaly',\n",
       " 'Stretch',\n",
       " 'A_Haunted_House_2',\n",
       " 'Love_&_Mercy',\n",
       " 'Lizzie_Borden_Took_An_Ax',\n",
       " 'Monsters:_Dark_Continent',\n",
       " 'Night_Moves',\n",
       " 'Paper_Planes',\n",
       " 'The_Inbetweeners_2',\n",
       " 'Barbie_and_the_Secret_Door',\n",
       " 'Time_Out_of_Mind',\n",
       " 'Citizenfour',\n",
       " 'A_Little_Chaos',\n",
       " 'Bears',\n",
       " 'The_Possession_of_Michael_King',\n",
       " 'The_Town_that_Dreaded_Sundown',\n",
       " 'Maps_to_the_Stars',\n",
       " 'Zombeavers',\n",
       " 'Lemon_Tree_Passage',\n",
       " 'Mr._Turner',\n",
       " 'Bad_Johnson',\n",
       " 'Northmen:_A_Viking_Saga',\n",
       " \"Roald_Dahl's_Esio_Trot\",\n",
       " 'Burying_the_Ex',\n",
       " 'Vampire_Academy',\n",
       " 'The_Disappearance_of_Eleanor_Rigby:_Them',\n",
       " 'Out_of_the_Dark',\n",
       " 'Kick',\n",
       " 'Cloud_9',\n",
       " 'Premature',\n",
       " 'The_Good_Lie',\n",
       " 'Bad_Country',\n",
       " 'The_Mule',\n",
       " 'ABCs_of_Death_2',\n",
       " 'Sharknado_2:_The_Second_One',\n",
       " 'Love_Is_Strange',\n",
       " 'Walking_on_Sunshine',\n",
       " 'Jinn',\n",
       " 'Flying_Home',\n",
       " 'Behaving_Badly',\n",
       " 'Welcome_to_Me',\n",
       " 'Alien_Outpost',\n",
       " 'Just_Before_I_Go',\n",
       " 'The_Disappearance_of_Eleanor_Rigby:_Her',\n",
       " 'October_Gale',\n",
       " 'Get_Santa',\n",
       " 'Freezer',\n",
       " 'Mercenaries',\n",
       " 'The_Face_of_an_Angel',\n",
       " 'The_Single_Moms_Club',\n",
       " 'Rampage:_Capital_Punishment',\n",
       " 'Before_I_Disappear',\n",
       " 'Addicted',\n",
       " 'About_Alex',\n",
       " 'A_Royal_Christmas',\n",
       " 'A_Long_Way_Down',\n",
       " 'Lost_After_Dark',\n",
       " 'Pas_son_genre',\n",
       " 'The_Pact_II',\n",
       " 'Son_of_Batman',\n",
       " 'Boulevard',\n",
       " 'Falcon_Rising',\n",
       " 'The_Damned',\n",
       " 'Sleeping_Beauty',\n",
       " 'God_Help_the_Girl',\n",
       " 'Avalanche_Sharks',\n",
       " 'Young_Ones',\n",
       " 'Big_Driver',\n",
       " 'Jamesy_Boy',\n",
       " 'Obvious_Child',\n",
       " 'My_Little_Pony:_Equestria_Girls_-_Rainbow_Rocks',\n",
       " 'Stage_Fright',\n",
       " 'Sword_of_Vengeance',\n",
       " 'The_Coed_and_the_Zombie_Stoner',\n",
       " 'Reclaim',\n",
       " 'Best_Night_Ever',\n",
       " 'Tapped_Out',\n",
       " 'Halo:_Nightfall',\n",
       " 'By_the_Gun',\n",
       " 'Plastic',\n",
       " 'Road_to_Paloma',\n",
       " 'Electric_Boogaloo:_The_Wild,_Untold_Story_of_Cannon_Films',\n",
       " 'Extraterrestrial',\n",
       " 'Haunt',\n",
       " 'Olive_Kitteridge',\n",
       " 'Starry_Eyes',\n",
       " 'Cantinflas',\n",
       " 'Manny',\n",
       " '7500',\n",
       " '5_to_7',\n",
       " 'Star_Wars_Rebels:_Spark_of_Rebellion',\n",
       " 'These_Final_Hours',\n",
       " 'The_Pretty_One',\n",
       " 'Debug',\n",
       " 'Flowers_in_the_Attic',\n",
       " 'Outlaw_Prophet:_Warren_Jeffs',\n",
       " 'The_Song',\n",
       " 'The_Last_Five_Years',\n",
       " 'Cabin_Fever:_Patient_Zero',\n",
       " 'Bad_Turn_Worse',\n",
       " 'The_Disappearance_of_Eleanor_Rigby:_Him',\n",
       " 'Cooties',\n",
       " 'Hangar_10',\n",
       " 'Leprechaun:_Origins',\n",
       " 'Someone_Marry_Barry',\n",
       " 'Viking:_The_Berserkers',\n",
       " 'Kid_Cannabis',\n",
       " 'Swelter',\n",
       " 'The_Rewrite',\n",
       " 'John_Doe:_Vigilante',\n",
       " 'Ride',\n",
       " 'The_Dark_Horse',\n",
       " 'Wyrmwood:_Road_Of_The_Dead',\n",
       " 'Against_the_Sun',\n",
       " 'That_Sugar_Film',\n",
       " 'Date_and_Switch',\n",
       " \"Don't_Blink\",\n",
       " 'The_Lookalike',\n",
       " 'Marvel:_75_Years,_From_Pulp_to_Pop!',\n",
       " 'Sniper:_Legacy',\n",
       " 'Horsehead',\n",
       " 'Marvel_Studios:_Assembling_a_Universe',\n",
       " 'V/H/S:_Viral',\n",
       " 'Comet',\n",
       " 'The_One_I_Love',\n",
       " 'Grace',\n",
       " 'The_Canal',\n",
       " 'Mall',\n",
       " 'Blood_Punch',\n",
       " 'The_Normal_Heart',\n",
       " 'Faults',\n",
       " 'Colt_45',\n",
       " 'Every_Secret_Thing',\n",
       " 'The_Keeping_Room',\n",
       " 'Dinosaur_Island',\n",
       " 'Lap_Dance',\n",
       " 'Let_Us_Prey',\n",
       " 'Lovesick',\n",
       " 'Zapped',\n",
       " 'My_Mistress',\n",
       " 'Kajaki',\n",
       " 'Unlocking_Sherlock',\n",
       " 'Expelled',\n",
       " 'Authors_Anonymous',\n",
       " 'Land_Ho!',\n",
       " 'Felony',\n",
       " 'Appleseed_Alpha',\n",
       " 'Savaged',\n",
       " 'Effie_Gray',\n",
       " 'Joy_Ride_3',\n",
       " 'Android_Cop',\n",
       " 'Scooby-Doo!_WrestleMania_Mystery',\n",
       " 'Video_Games:_The_Movie',\n",
       " 'Exists',\n",
       " 'I_Am_Ali',\n",
       " 'One_Square_Mile',\n",
       " 'Age_of_Tomorrow',\n",
       " 'Copenhagen',\n",
       " 'Bang_Bang',\n",
       " 'TEKKEN:_A_Man_Called_X',\n",
       " 'Houdini',\n",
       " '7_Minutes',\n",
       " 'De_toutes_nos_forces',\n",
       " 'Life_Itself',\n",
       " 'Life_Partners',\n",
       " 'Mercy',\n",
       " 'Late_Phases',\n",
       " '10.000_KM',\n",
       " 'Mockingbird',\n",
       " 'Fort_Bliss',\n",
       " 'Finding_Vivian_Maier',\n",
       " 'Where_Hope_Grows',\n",
       " 'The_Well',\n",
       " 'Dinosaur_13',\n",
       " 'Like_Sunday,_Like_Rain',\n",
       " 'Little_Accidents',\n",
       " 'Supermensch:_The_Legend_of_Shep_Gordon',\n",
       " \"The_Internet's_Own_Boy:_The_Story_of_Aaron_Swartz\",\n",
       " 'Almost_Home',\n",
       " 'Harmontown',\n",
       " 'Petals_on_the_Wind',\n",
       " 'Iron_Man_&_Captain_America:_Heroes_United',\n",
       " 'Preservation',\n",
       " 'My_Man_is_a_Loser',\n",
       " 'Virunga',\n",
       " \"Interstellar:_Nolan's_Odyssey\",\n",
       " 'American_Muscle',\n",
       " 'Deep_in_the_Darkness',\n",
       " 'Jacky_au_royaume_des_filles',\n",
       " 'Alien_Abduction',\n",
       " 'ì‹\\xa0ì˜_í•œ_ìˆ˜',\n",
       " 'The_Frame',\n",
       " 'Batman:_Strange_Days',\n",
       " 'Boys_of_Abu_Ghraib',\n",
       " 'Born_to_Race:_Fast_Track',\n",
       " 'The_Falling',\n",
       " 'Poker_Night',\n",
       " 'I_Am_Santa_Claus',\n",
       " 'Postman_Pat:_The_Movie',\n",
       " 'Creep',\n",
       " 'Supremacy',\n",
       " 'The_Look_of_Silence',\n",
       " 'Iris',\n",
       " 'Squatters',\n",
       " 'Bird_People',\n",
       " 'Ribbit',\n",
       " 'How_to_Build_a_Better_Boy',\n",
       " 'Jarhead_2:_Field_of_Fire',\n",
       " 'Survivor',\n",
       " 'Seal_Team_Eight:_Behind_Enemy_Lines',\n",
       " 'Suburban_Gothic',\n",
       " 'Welcome_to_New_York',\n",
       " 'An_Honest_Liar',\n",
       " 'JLA_Adventures:_Trapped_in_Time',\n",
       " 'Enchanted_Kingdom',\n",
       " 'I_Am_Soldier',\n",
       " 'Desert_Dancer',\n",
       " 'See_No_Evil_2',\n",
       " 'Queen_and_Country',\n",
       " 'Goodbye_to_All_That',\n",
       " 'Northern_Soul',\n",
       " 'Doctor_Who:_Last_Christmas',\n",
       " 'Lilting',\n",
       " 'Fear_Clinic',\n",
       " 'School_Dance',\n",
       " 'Valley_Uprising',\n",
       " '9_Kisses',\n",
       " 'In_My_Dreams',\n",
       " 'Julia',\n",
       " 'Perfect_Sisters',\n",
       " 'Ironclad_2:_Battle_for_Blood',\n",
       " 'Jackass_Presents:_Bad_Grandpa_.5',\n",
       " 'Dark_Was_the_Night',\n",
       " 'Asthma',\n",
       " 'Saint_Laurent',\n",
       " \"Street_Fighter:_Assassin's_Fist\",\n",
       " 'Jamie_Marks_Is_Dead',\n",
       " 'The_Device',\n",
       " 'WolfCop',\n",
       " \"At_the_Devil's_Door\",\n",
       " 'Roger_Waters:_The_Wall',\n",
       " 'Kelly_&_Cal',\n",
       " 'Cat_Run_2',\n",
       " 'The_Remaining',\n",
       " 'Apocalypse_Pompeii',\n",
       " 'The_Search_for_General_Tso',\n",
       " 'Take_Care',\n",
       " 'Low_Down',\n",
       " 'The_Prophet',\n",
       " 'JohnnyExpress',\n",
       " 'Sharktopus_vs_Pteracuda',\n",
       " 'Listen_Up_Philip',\n",
       " 'Iverson',\n",
       " 'The_Road_Within',\n",
       " 'Ascension',\n",
       " 'Dans_la_cour',\n",
       " 'Crawl_or_Die',\n",
       " 'Red_Army',\n",
       " 'Whitey:_United_States_of_America_v._James_J._Bulger',\n",
       " 'Rosewater',\n",
       " 'Last_Days_in_Vietnam',\n",
       " 'ç\\xad‰ä¸€å€‹äººå’–å•¡',\n",
       " 'Two_Men_in_Town',\n",
       " 'Hyena',\n",
       " 'Finders_Keepers',\n",
       " \"Trailer_Park_Boys:_Don't_Legalize_It\",\n",
       " 'Elephant_Song',\n",
       " 'Teen_Lust',\n",
       " 'Nowhere_Safe',\n",
       " 'Black_Mirror:_White_Christmas',\n",
       " 'Animal',\n",
       " \"We'll_Never_Have_Paris\",\n",
       " 'They_Came_Together',\n",
       " 'The_Story_of_Frozen:_Making_a_Disney_Animated_Classic',\n",
       " 'Inner_Demons',\n",
       " 'Cowspiracy:_The_Sustainability_Secret',\n",
       " 'Killer_Legends',\n",
       " 'Amira_&_Sam',\n",
       " \"Grumpy_Cat's_Worst_Christmas_Ever\",\n",
       " \"The_Hornet's_Nest\",\n",
       " 'Viharsarok',\n",
       " 'The_Mummy_Resurrected',\n",
       " 'The_Wedding_Pact',\n",
       " 'Over_the_Garden_Wall',\n",
       " 'Alive_Inside',\n",
       " 'Gunday',\n",
       " \"Rosemary's_Baby\",\n",
       " 'Happy_Christmas',\n",
       " 'The_7:39',\n",
       " 'The_Perfect_Wave',\n",
       " 'Billy_Elliot:_The_Musical',\n",
       " 'Delirium',\n",
       " 'Sex_Ed',\n",
       " 'The_Houses_October_Built',\n",
       " 'Lullaby',\n",
       " 'Marvellous',\n",
       " 'Hercules_Reborn',\n",
       " 'Road',\n",
       " 'Party_Central',\n",
       " 'Mostly_Ghostly:_Have_You_Met_My_Ghoulfriend?',\n",
       " 'Klondike',\n",
       " 'No_No:_A_Dockumentary',\n",
       " 'Lust_for_Love',\n",
       " 'Believe_Me',\n",
       " 'Dance-Off',\n",
       " 'Jim_Jefferies:_BARE',\n",
       " \"Bill_Burr:_I'm_Sorry_You_Feel_That_Way\",\n",
       " 'The_Guvnors',\n",
       " 'Nick_Offerman:_American_Ham',\n",
       " 'Tell',\n",
       " 'Night_Will_Fall',\n",
       " 'The_Battered_Bastards_of_Baseball',\n",
       " 'Jailbait',\n",
       " 'The_Rise_and_Rise_of_Bitcoin',\n",
       " 'Breakup_Buddies',\n",
       " 'CÃ¡sese_quien_pueda',\n",
       " 'All_Relative',\n",
       " 'Banksy_Does_New_York',\n",
       " 'Not_Cool',\n",
       " 'Merchants_of_Doubt',\n",
       " '96_heures',\n",
       " 'Camp_Takota',\n",
       " 'Montana',\n",
       " 'Atari:_Game_Over',\n",
       " 'Indigenous',\n",
       " 'Mardaani',\n",
       " 'Amour_Sur_Place_ou_Ã\\xa0_Emporter',\n",
       " 'Wanderers',\n",
       " 'Eden',\n",
       " 'Old_Fashioned',\n",
       " 'The_Fluffy_Movie',\n",
       " 'Khoobsurat',\n",
       " 'Showrunners:_The_Art_of_Running_a_TV_Show',\n",
       " 'Saints_and_Soldiers:_The_Void',\n",
       " 'Not_Safe_for_Work',\n",
       " 'The_Gunfighter',\n",
       " 'Heaven_Adores_You',\n",
       " 'Korengal',\n",
       " 'America:_Imagine_the_World_Without_Her',\n",
       " '23_Blast',\n",
       " 'All_This_Mayhem',\n",
       " 'Vie_Sauvage',\n",
       " 'Jim_Gaffigan:_Obsessed',\n",
       " 'Chelsea_Handler_Uganda_Be_Kidding_Me_Live',\n",
       " 'To_Be_Takei',\n",
       " 'Nas:_Time_Is_Illmatic',\n",
       " 'Top_Gear:_The_Perfect_Road_Trip_2',\n",
       " 'Come_Back_to_Me',\n",
       " 'The_10_Year_Plan',\n",
       " 'Ardennes_Fury',\n",
       " 'Tim_Maia',\n",
       " 'Tracks',\n",
       " 'Point_and_Shoot',\n",
       " 'Maidentrip',\n",
       " 'Ballet_422',\n",
       " 'Chelsea_Peretti:_One_of_the_Greats',\n",
       " 'The_After',\n",
       " 'The_Trip_to_Italy',\n",
       " 'The_Dead_Lands',\n",
       " 'Mary_Kom',\n",
       " 'The_Green_Prince',\n",
       " 'Ambition',\n",
       " 'The_Overnighters',\n",
       " 'Altar',\n",
       " 'Happy_Ending',\n",
       " 'Fat,_Sick_&_Nearly_Dead_2',\n",
       " 'Nowitzki:_The_Perfect_Shot',\n",
       " 'Mitt',\n",
       " 'Berkshire_County',\n",
       " 'Des_Lendemains_Qui_Chantent',\n",
       " 'Main_Tera_Hero',\n",
       " 'Happy_Valley',\n",
       " 'Kids_for_Cash',\n",
       " \"Lost_Soul:_The_Doomed_Journey_of_Richard_Stanley's_Island_of_Dr._Moreau\",\n",
       " 'Kill_Dil',\n",
       " 'Love_Me',\n",
       " 'We_Still_Kill_the_Old_Way',\n",
       " 'One_Direction:_Where_We_Are_-_The_Concert',\n",
       " 'Stop_at_Nothing:_The_Lance_Armstrong_Story',\n",
       " 'Humpty_Sharma_Ki_Dulhania',\n",
       " 'Anatomy_of_a_Love_Seen',\n",
       " 'Rich_Hill',\n",
       " 'Pantani:_The_Accidental_Death_of_a_Cyclist',\n",
       " 'Do_I_Sound_Gay?',\n",
       " 'The_Many_Adventures_of_Winnie_the_Pooh',\n",
       " 'Herbie_Goes_To_Monte_Carlo',\n",
       " 'March_or_Die',\n",
       " 'Smokey_and_the_Bandit',\n",
       " 'Pumping_Iron',\n",
       " 'New_York,_New_York',\n",
       " 'Slap_Shot',\n",
       " 'Julia',\n",
       " 'Audrey_Rose',\n",
       " 'Jabberwocky',\n",
       " 'Eraserhead',\n",
       " 'Rolling_Thunder',\n",
       " 'The_Message',\n",
       " 'The_Man_in_the_Iron_Mask',\n",
       " 'Black_Sunday',\n",
       " 'Candleshoe',\n",
       " \"The_Serpent's_Egg\",\n",
       " 'The_White_Buffalo',\n",
       " 'Oh,_God!',\n",
       " 'The_Car',\n",
       " 'Rollercoaster',\n",
       " 'Demon_Seed',\n",
       " 'The_Island_of_Dr._Moreau',\n",
       " 'Martin',\n",
       " 'The_Deep',\n",
       " 'Empire_of_the_Ants',\n",
       " 'Day_of_the_Animals',\n",
       " 'The_Sentinel',\n",
       " 'The_Goodbye_Girl',\n",
       " 'Opening_Night',\n",
       " \"Emmet_Otter's_Jug-Band_Christmas\",\n",
       " 'The_Pink_Panther_2',\n",
       " 'The_Rebound',\n",
       " 'Tinker_Bell_and_the_Lost_Treasure',\n",
       " 'Van_Wilder:_Freshman_Year',\n",
       " 'Ghosts_of_Girlfriends_Past',\n",
       " 'Anaconda_4:_Trail_of_Blood',\n",
       " 'Merry_Madagascar',\n",
       " 'Wrong_Turn_3:_Left_for_Dead',\n",
       " 'Fanboys',\n",
       " 'From_Time_to_Time',\n",
       " 'Spread',\n",
       " 'The_Uninvited',\n",
       " 'Powder_Blue',\n",
       " 'The_Butterfly_Effect_3:_Revelations',\n",
       " 'Dorian_Gray',\n",
       " 'The_Haunting_in_Connecticut',\n",
       " 'American_Pie_Presents:_The_Book_of_Love',\n",
       " 'Oceans',\n",
       " 'Battlestar_Galactica:_The_Plan',\n",
       " 'Home',\n",
       " 'Bitch_Slap',\n",
       " 'Carriers',\n",
       " 'Hole_in_One',\n",
       " 'My_Fake_Fiance',\n",
       " 'Hulk_vs._Wolverine',\n",
       " 'Paper_Man',\n",
       " 'The_Hole',\n",
       " 'Suck',\n",
       " 'Nothing_Personal',\n",
       " 'Eating_Out:_All_You_Can_Eat',\n",
       " 'Observe_and_Report',\n",
       " 'Fighting',\n",
       " 'Adam',\n",
       " 'The_Descent:_Part_2',\n",
       " 'Die_PÃ¤pstin',\n",
       " 'Cracks',\n",
       " 'Redline',\n",
       " 'The_Infidel',\n",
       " 'Superman/Batman:_Public_Enemies',\n",
       " 'In_the_Electric_Mist',\n",
       " 'Space_Buddies',\n",
       " 'Wonder_Woman',\n",
       " 'Stargate_SG-1:_Children_of_the_Gods',\n",
       " \"Assassin's_Creed:_Lineage\",\n",
       " 'Santa_Buddies',\n",
       " 'Scooby-Doo!_The_Mystery_Begins',\n",
       " 'Beauty_and_the_Beast',\n",
       " 'American_Virgin',\n",
       " 'Red_Riding:_In_the_Year_of_Our_Lord_1983',\n",
       " 'The_Stepfather',\n",
       " 'Seulpeumboda_deo_seulpeun_Iyagi',\n",
       " 'Rampage',\n",
       " 'The_Cove',\n",
       " 'Family_Guy_Presents:_Something,_Something,_Something,_Dark_Side',\n",
       " 'The_Last_House_on_the_Left',\n",
       " 'Turtles_Forever',\n",
       " 'Merantau',\n",
       " 'Labor_Pains',\n",
       " 'Creation',\n",
       " 'Barbie_Presents:_Thumbelina',\n",
       " 'Exam',\n",
       " 'Lesbian_Vampire_Killers',\n",
       " '44_Inch_Chest',\n",
       " \"The_Good_Witch's_Garden\",\n",
       " 'In_the_Loop',\n",
       " 'The_Vicious_Kind',\n",
       " 'The_Last_Station',\n",
       " 'Contracorriente',\n",
       " 'Dadnapped',\n",
       " 'The_Limits_of_Control',\n",
       " 'According_to_Greta',\n",
       " 'Dead_Man_Running',\n",
       " 'Dance_Flick',\n",
       " 'Red_Riding:_In_the_Year_of_Our_Lord_1974',\n",
       " 'Barbie_and_the_Three_Musketeers',\n",
       " 'Balls_Out:_The_Gary_Houseman_Story',\n",
       " 'Mutant_Pumpkins_from_Outer_Space',\n",
       " 'Prison_Break:_The_Final_Break',\n",
       " \"Happily_N'Ever_After_2\",\n",
       " 'Virtuality',\n",
       " ...]"
      ]
     },
     "execution_count": 11,
     "metadata": {},
     "output_type": "execute_result"
    }
   ],
   "source": [
    "# Search for where movie budget is less than $60000\n",
    "movies=df2[df2.budget<60000].original_title.tolist()\n",
    "# preparing movies list to search for budget online\n",
    "movies2=[]\n",
    "for movie in movies:\n",
    "    new_name=movie.replace(' ','_',)\n",
    "    movies2.append(new_name)\n",
    "# movies=[','.join([movie.replace(' ','_') for movie in movies])]\n",
    "movies2\n"
   ]
  },
  {
   "cell_type": "code",
   "execution_count": 16,
   "metadata": {},
   "outputs": [
    {
     "name": "stderr",
     "output_type": "stream",
     "text": [
      "en.wikipedia.org (parse) Mr._Holmes\n",
      "en.wikipedia.org (imageinfo) File:Mr. Holmes poster.jpg\n",
      "Mr. Holmes (en) data\n",
      "{\n",
      "  image: <list(1)> {'kind': 'parse-image', 'file': 'File:Mr. Holme...\n",
      "  infobox: <dict(20)> name, image, alt, caption, director, produce...\n",
      "  pageid: 40463536\n",
      "  parsetree: <str(28184)> <root><template><title>Short description...\n",
      "  requests: <list(2)> parse, imageinfo\n",
      "  title: Mr. Holmes\n",
      "  wikibase: Q17344458\n",
      "  wikidata_url: https://www.wikidata.org/wiki/Q17344458\n",
      "  wikitext: <str(21410)> {{Short description|2015 mystery film}}{{...\n",
      "}\n",
      "en.wikipedia.org (parse) Solace\n"
     ]
    },
    {
     "name": "stdout",
     "output_type": "stream",
     "text": [
      "PAGE NOT FOUND\n"
     ]
    },
    {
     "name": "stderr",
     "output_type": "stream",
     "text": [
      "Consolation (en) data\n",
      "{\n",
      "  iwlinks: <list(2)> https://en.wikiquote.org/wiki/Special:Search/...\n",
      "  pageid: 41245169\n",
      "  parsetree: <str(12472)> <root><template><title>other uses</title...\n",
      "  requests: <list(1)> parse\n",
      "  title: Consolation\n",
      "  wikibase: Q1990010\n",
      "  wikidata_url: https://www.wikidata.org/wiki/Q1990010\n",
      "  wikitext: <str(9892)> {{other uses}}{{redirect|Solace}}[[File:Co...\n",
      "}\n"
     ]
    }
   ],
   "source": [
    "# Searching for movie budget online \n",
    "import wptools\n",
    "budget_list=[]\n",
    "try:\n",
    "    for movie_title in movies2:\n",
    "        page = wptools.page(movie_title)\n",
    "        page=page.get_parse()\n",
    "        budget=page.data\n",
    "        if (budget['infobox']  or budget['budget']['infobox']) == None:\n",
    "            \n",
    "            budget_list.append(0)\n",
    "            \n",
    "        else:\n",
    "            budget_list.append(budget['infobox']['budget'])\n",
    "            \n",
    "except LookupError as e:\n",
    "        print('PAGE NOT FOUND')\n",
    "        pass\n",
    "#         continue\n",
    "\n",
    "# page=wptools.page('Solace')\n",
    "# page.get()\n",
    "# page.data['']"
   ]
  },
  {
   "cell_type": "markdown",
   "metadata": {},
   "source": [
    "The code above could only get budget for Movie Mr.Holmes. Movie budget is hard to find online as many production companies dont readily release it.\n",
    "due to this we will be removing these movies from the dataset as it can lead to misleading insights"
   ]
  },
  {
   "cell_type": "markdown",
   "metadata": {},
   "source": [
    "the cheapest movie ever made according to google is $The$ $Blair$ $Witch$ at $\\$60 000$ so drop all movies with budget below $\\$60000$\n",
    "also the worst revenue a movie got according to google was for the movie $Zyzzyx$ $Road$ at $\\$368 000$ but this will not affect our analysis. \n"
   ]
  },
  {
   "cell_type": "code",
   "execution_count": 12,
   "metadata": {},
   "outputs": [],
   "source": [
    "# # drop movies with budget less than 60000 and revenue less than 368000\n",
    "# df2.drop(df2.index[df2.budget<60000],inplace=True)\n",
    "# df2.drop(df2.index[df2.revenue<380000],inplace=True)"
   ]
  },
  {
   "cell_type": "markdown",
   "metadata": {},
   "source": [
    "**<font color='purple'>Tidiness issues</font>**\n",
    "#### Define\n",
    "- Extract Action movies from genres column and drop genres column\n",
    "\n",
    "#### Code"
   ]
  },
  {
   "cell_type": "code",
   "execution_count": 13,
   "metadata": {},
   "outputs": [
    {
     "data": {
      "text/plain": [
       "array(['Action'], dtype=object)"
      ]
     },
     "execution_count": 13,
     "metadata": {},
     "output_type": "execute_result"
    }
   ],
   "source": [
    "# extract 'Action' from the genres column for analysis later\n",
    "df2['Action']=df2.genres.str.extract('(Action)',expand=True)\n",
    "# drop  genres column\n",
    "df2.drop('genres',axis=1)\n",
    "# drop nan values in Action column\n",
    "df2 = df2.dropna()\n",
    "# check 'Action' column\n",
    "df2.Action.unique()"
   ]
  },
  {
   "cell_type": "code",
   "execution_count": 14,
   "metadata": {},
   "outputs": [
    {
     "data": {
      "text/plain": [
       "(2383, 22)"
      ]
     },
     "execution_count": 14,
     "metadata": {},
     "output_type": "execute_result"
    }
   ],
   "source": [
    "df2.shape"
   ]
  },
  {
   "cell_type": "code",
   "execution_count": 15,
   "metadata": {},
   "outputs": [],
   "source": [
    "# extract release_month and day from release_date column\n",
    "df2['month']=df2.release_date.dt.strftime('%b')\n",
    "df2['day']=df2.release_date.dt.strftime('%A')"
   ]
  },
  {
   "cell_type": "code",
   "execution_count": 40,
   "metadata": {},
   "outputs": [
    {
     "data": {
      "text/plain": [
       "0          Tuesday\n",
       "1        Wednesday\n",
       "3          Tuesday\n",
       "4        Wednesday\n",
       "6          Tuesday\n",
       "           ...    \n",
       "10850      Tuesday\n",
       "10851      Tuesday\n",
       "10857     Thursday\n",
       "10862      Tuesday\n",
       "10864      Tuesday\n",
       "Name: day, Length: 2383, dtype: object"
      ]
     },
     "execution_count": 40,
     "metadata": {},
     "output_type": "execute_result"
    }
   ],
   "source": [
    "df2.day"
   ]
  },
  {
   "cell_type": "markdown",
   "metadata": {},
   "source": [
    "<a id='eda'></a>\n",
    "## Exploratory Data Analysis\n",
    "### Univariate"
   ]
  },
  {
   "cell_type": "code",
   "execution_count": 44,
   "metadata": {},
   "outputs": [
    {
     "data": {
      "image/png": "[encoded data removed]",
      "text/plain": [
       "<Figure size 432x288 with 1 Axes>"
      ]
     },
     "metadata": {
      "needs_background": "light"
     },
     "output_type": "display_data"
    }
   ],
   "source": [
    "plt.hist(data=df2,x='revenue');\n",
    "plt.xlabel('Revenue');\n",
    "plt.ylabel('Count');"
   ]
  },
  {
   "cell_type": "code",
   "execution_count": 51,
   "metadata": {},
   "outputs": [
    {
     "data": {
      "image/png": "[encoded data removed]",
      "text/plain": [
       "<Figure size 432x288 with 1 Axes>"
      ]
     },
     "metadata": {
      "needs_background": "light"
     },
     "output_type": "display_data"
    }
   ],
   "source": [
    "size=(df2.revenue.max()-df2.revenue.min())/100\n",
    "bins = 10**np.arange(df2.revenue.min(),np.log10(df2.revenue.max()),0.09)\n",
    "plt.hist(data=df2,x='revenue',bins=bins);\n",
    "plt.xscale('log');\n",
    "plt.xlim(10**5,df2.revenue.max()+2*10**9);\n",
    "plt.xlabel('Revenue');\n",
    "plt.ylabel('Count');\n",
    "xloc=[100000,1000000,10000000,100000000,1000000000]\n",
    "xlabel=['100k','1mil','10mil','100mil','1bil']\n",
    "plt.xticks(xloc,xlabel);\n"
   ]
  },
  {
   "cell_type": "code",
   "execution_count": 56,
   "metadata": {},
   "outputs": [
    {
     "data": {
      "image/png": "[encoded data removed]",
      "text/plain": [
       "<Figure size 432x288 with 1 Axes>"
      ]
     },
     "metadata": {
      "needs_background": "light"
     },
     "output_type": "display_data"
    }
   ],
   "source": [
    "bins = 10**np.arange(df2.budget.min(),np.log10(df2.budget.max()),0.09)\n",
    "\n",
    "plt.hist(data=df2,x='budget',bins=bins);\n",
    "plt.xscale('log');\n",
    "plt.xlim(10**5,df2.budget.max());\n",
    "plt.xlabel('Budget');\n",
    "plt.ylabel('Count');\n",
    "xloc=[100000,1000000,10000000,100000000]\n",
    "xlabel=['100k','1mil','10mil','100mil']\n",
    "plt.xticks(xloc,xlabel);"
   ]
  },
  {
   "cell_type": "code",
   "execution_count": 57,
   "metadata": {},
   "outputs": [
    {
     "data": {
      "image/png": "[encoded data removed]",
      "text/plain": [
       "<Figure size 432x288 with 1 Axes>"
      ]
     },
     "metadata": {
      "needs_background": "light"
     },
     "output_type": "display_data"
    }
   ],
   "source": [
    "size = (df2.popularity.max()-df2.popularity.min())/20\n",
    "bins = 10**np.arange(np.log10(df2.popularity.min()),np.log10(df2.popularity.max()),0.07)\n",
    "plt.hist(data=df2,x='popularity',bins=bins);\n",
    "\n",
    "plt.xscale('log')\n",
    "plt.xlim(10**-2,10);\n",
    "xloc=[0.01,0.1,1,10]\n",
    "xlabel=['{}'.format(v) for v in xloc]\n",
    "plt.xticks(xloc,xlabel);"
   ]
  },
  {
   "cell_type": "markdown",
   "metadata": {},
   "source": [
    "**Revenue and budget and popularity takes on an almost unimodal nature when plotted on the log scale**"
   ]
  },
  {
   "cell_type": "code",
   "execution_count": 58,
   "metadata": {},
   "outputs": [
    {
     "data": {
      "image/png": "[encoded data removed]",
      "text/plain": [
       "<Figure size 432x288 with 1 Axes>"
      ]
     },
     "metadata": {
      "needs_background": "light"
     },
     "output_type": "display_data"
    }
   ],
   "source": [
    "size=(df2.runtime.max()-df2.runtime.min())/120\n",
    "bins=np.arange(df2.runtime.min(),df2.runtime.max(),size)\n",
    "plt.hist(data=df2,x='runtime',bins=bins);\n",
    "plt.xlim(0,200);\n",
    "plt.xlabel('Runtime');\n",
    "plt.ylabel('Count');"
   ]
  },
  {
   "cell_type": "markdown",
   "metadata": {},
   "source": [
    "Runtime has a unimodal distribution"
   ]
  },
  {
   "cell_type": "code",
   "execution_count": 35,
   "metadata": {},
   "outputs": [
    {
     "data": {
      "image/png": "[encoded data removed]",
      "text/plain": [
       "<Figure size 432x288 with 1 Axes>"
      ]
     },
     "metadata": {
      "needs_background": "light"
     },
     "output_type": "display_data"
    }
   ],
   "source": [
    "order=df2.month.value_counts().index\n",
    "color=sb.color_palette()[0]\n",
    "sb.countplot(data=df2,x='month',color=color,order=order);\n",
    "# df2.month"
   ]
  },
  {
   "cell_type": "markdown",
   "metadata": {},
   "source": [
    "This plot shows the distribution of movie releases based on month with August having the most release of movies"
   ]
  },
  {
   "cell_type": "markdown",
   "metadata": {},
   "source": [
    "### Bivariate Exploration"
   ]
  },
  {
   "cell_type": "markdown",
   "metadata": {},
   "source": [
    "##### Reveue Vs Runtime"
   ]
  },
  {
   "cell_type": "code",
   "execution_count": 89,
   "metadata": {},
   "outputs": [
    {
     "data": {
      "image/png": "[encoded data removed]",
      "text/plain": [
       "<Figure size 576x432 with 1 Axes>"
      ]
     },
     "metadata": {
      "needs_background": "light"
     },
     "output_type": "display_data"
    }
   ],
   "source": [
    "plt.figure(figsize=[8,6])\n",
    "sb.regplot(data=df2,x='runtime',y='revenue',fit_reg=False,x_jitter=0.3,scatter_kws={'alpha':0.5});\n",
    "# plt.xlim(50,200);\n",
    "# plt.ylim(0,1.5*10**9)\n",
    "plt.yscale('log');\n",
    "# plt.xscale('log');\n",
    "yloc=[10,100,1000,10000,100000,1000000,10000000,100000000,1000000000]\n",
    "ylabel=['10','100','1k','10k','100k','1mil','10mil','100mil','1bil']\n",
    "plt.yticks(yloc,ylabel);\n",
    "plt.xlim(0,200);\n",
    "plt.xlabel('Runtime(mins)');\n",
    "plt.ylabel('Revenue');"
   ]
  },
  {
   "cell_type": "markdown",
   "metadata": {},
   "source": [
    "This cell shows that most movies have a duration around 100mins(1hr:15mins) with a revenue congested around $\\$1million$ to about $\\$500million$ but we dont really understand yet why revenue is increasing. Perhaps a closer look at revenue with another variable will shed some more light.\n"
   ]
  },
  {
   "cell_type": "markdown",
   "metadata": {},
   "source": [
    "##### Revenue Vs Budget"
   ]
  },
  {
   "cell_type": "code",
   "execution_count": 60,
   "metadata": {},
   "outputs": [
    {
     "data": {
      "image/png": "[encoded data removed]",
      "text/plain": [
       "<Figure size 576x432 with 1 Axes>"
      ]
     },
     "metadata": {
      "needs_background": "light"
     },
     "output_type": "display_data"
    }
   ],
   "source": [
    "plt.figure(figsize=[8,6])\n",
    "\n",
    "sb.regplot(data=df2,x='budget',y='revenue',fit_reg=False,scatter_kws={'alpha':1/3});\n",
    "plt.xscale('log');\n",
    "plt.yscale('log');\n",
    "plt.xlim(10**5,10**9);\n",
    "plt.ylim(10**5,10**9)\n",
    "xloc=[100000,1000000,10000000,100000000,1000000000]\n",
    "xlabel=['100k','1mil','10mil','100mil','1bil']\n",
    "yloc=[100000,1000000,10000000,100000000,1000000000]\n",
    "ylabel=['100k','1mil','10mil','100mil','1bil']\n",
    "plt.xticks(xloc,xlabel);\n",
    "plt.yticks(xloc,xlabel);"
   ]
  },
  {
   "cell_type": "markdown",
   "metadata": {},
   "source": [
    "Here we begin to see a kind of trend from budget of about $\\$10million$  and above . With an increase in budget comes a gentle steady increase in revenue."
   ]
  },
  {
   "cell_type": "markdown",
   "metadata": {},
   "source": [
    "**Revenue Vs Popularity**"
   ]
  },
  {
   "cell_type": "code",
   "execution_count": 38,
   "metadata": {},
   "outputs": [
    {
     "data": {
      "image/png": "[encoded data removed]",
      "text/plain": [
       "<Figure size 576x432 with 1 Axes>"
      ]
     },
     "metadata": {
      "needs_background": "light"
     },
     "output_type": "display_data"
    }
   ],
   "source": [
    "plt.figure(figsize=[8,6])\n",
    "\n",
    "sb.regplot(data=df2,x='popularity',y='revenue',fit_reg=False,scatter_kws={'alpha':1/3});\n",
    "# plt.xscale('log');\n",
    "plt.yscale('log');\n",
    "# plt.xlim(10**5,10**9);"
   ]
  },
  {
   "cell_type": "markdown",
   "metadata": {},
   "source": [
    "There is no clear correlation between revenue and popularity\n",
    "\n",
    "#### Revenue Vs Month"
   ]
  },
  {
   "cell_type": "code",
   "execution_count": 39,
   "metadata": {},
   "outputs": [
    {
     "data": {
      "image/png": "[encoded data removed]",
      "text/plain": [
       "<Figure size 432x288 with 1 Axes>"
      ]
     },
     "metadata": {
      "needs_background": "light"
     },
     "output_type": "display_data"
    }
   ],
   "source": [
    "color=sb.color_palette()[0]\n",
    "order=df2.groupby('month').mean()['revenue'].sort_values(ascending=False).index.tolist()\n",
    "sb.barplot(data=df2,x='month',y='revenue',color=color,ci=None,order=order);\n",
    "# plt.yscale('log')\n",
    "# order"
   ]
  },
  {
   "cell_type": "markdown",
   "metadata": {},
   "source": [
    "May and June have the highest mean revenues even though they dont have the highest number of releases.August had the highest number of releases but is fouth to the last in revenues."
   ]
  },
  {
   "cell_type": "markdown",
   "metadata": {},
   "source": [
    "#### Revenue Vs Day"
   ]
  },
  {
   "cell_type": "code",
   "execution_count": 43,
   "metadata": {},
   "outputs": [
    {
     "data": {
      "image/png": "[encoded data removed]",
      "text/plain": [
       "<Figure size 432x288 with 1 Axes>"
      ]
     },
     "metadata": {
      "needs_background": "light"
     },
     "output_type": "display_data"
    }
   ],
   "source": [
    "order=df2.groupby('day').mean()['revenue'].sort_values(ascending=False).index.tolist()\n",
    "sb.barplot(data=df2,x='day',y='revenue',color=color,ci=None,order=order);\n",
    "plt.xticks(rotation=15);"
   ]
  },
  {
   "cell_type": "markdown",
   "metadata": {},
   "source": [
    "This plot shows that wednesdays have the highest revenue."
   ]
  },
  {
   "cell_type": "markdown",
   "metadata": {},
   "source": [
    "***Revenue Vs Month Vs Day***"
   ]
  },
  {
   "cell_type": "code",
   "execution_count": 65,
   "metadata": {},
   "outputs": [
    {
     "data": {
      "image/png": "[encoded data removed]",
      "text/plain": [
       "<Figure size 1080x432 with 1 Axes>"
      ]
     },
     "metadata": {
      "needs_background": "light"
     },
     "output_type": "display_data"
    }
   ],
   "source": [
    "plt.figure(figsize=[15,6])\n",
    "sb.countplot(data=df2,x='month',hue='day');"
   ]
  },
  {
   "cell_type": "code",
   "execution_count": 83,
   "metadata": {
    "scrolled": true
   },
   "outputs": [
    {
     "data": {
      "image/png": "[encoded data removed]",
      "text/plain": [
       "<Figure size 1152x864 with 12 Axes>"
      ]
     },
     "metadata": {
      "needs_background": "light"
     },
     "output_type": "display_data"
    }
   ],
   "source": [
    "order=df2.day.value_counts().index\n",
    "\n",
    "g=sb.FacetGrid(data=df2, col='month', height=4 ,col_wrap=4,);\n",
    "g.map(sb.barplot,'revenue','day',order=order);\n"
   ]
  },
  {
   "cell_type": "markdown",
   "metadata": {},
   "source": [
    "> This first plot above clearly shows that Fridays in August has the highest release of Action movies but the second plot shows that Wednesdays in May have the produce the highest revenues in average."
   ]
  },
  {
   "cell_type": "markdown",
   "metadata": {},
   "source": [
    "<a id='conclusions'></a>\n",
    "## Conclusions\n",
    "\n",
    "    From the analysis made on the movie database on when to release Action movies with the Revenue as the determining factor(variable) it is advisory to release an Action Movie in May and preferably on a Wednesday as this month proves to produce the heighest revenue of over 160m dollars over the years from 1966 -2015. It will also do good to spend heavily in action movies as shown by the analysis over the years in other to get more revenue as there is a correlation between between budget and revenue. \n"
   ]
  },
  {
   "cell_type": "code",
   "execution_count": null,
   "metadata": {},
   "outputs": [],
   "source": []
  },
  {
   "cell_type": "code",
   "execution_count": null,
   "metadata": {},
   "outputs": [],
   "source": []
  }
 ],
 "metadata": {
  "kernelspec": {
   "display_name": "Python 3 (ipykernel)",
   "language": "python",
   "name": "python3"
  },
  "language_info": {
   "codemirror_mode": {
    "name": "ipython",
    "version": 3
   },
   "file_extension": ".py",
   "mimetype": "text/x-python",
   "name": "python",
   "nbconvert_exporter": "python",
   "pygments_lexer": "ipython3",
   "version": "3.9.7"
  }
 },
 "nbformat": 4,
 "nbformat_minor": 2
}
